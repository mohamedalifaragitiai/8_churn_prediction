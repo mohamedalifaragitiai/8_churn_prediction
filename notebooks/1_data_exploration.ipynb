{
 "cells": [
  {
   "cell_type": "markdown",
   "id": "5a1eacec",
   "metadata": {},
   "source": []
  },
  {
   "cell_type": "code",
   "execution_count": 1,
   "id": "1c2c5293",
   "metadata": {},
   "outputs": [],
   "source": [
    "import pandas as pd\n",
    "import numpy as np\n",
    "import matplotlib.pyplot as plt\n",
    "import seaborn as sns"
   ]
  },
  {
   "cell_type": "code",
   "execution_count": 2,
   "id": "5140b3e8",
   "metadata": {},
   "outputs": [
    {
     "name": "stdout",
     "output_type": "stream",
     "text": [
      "Dataset loaded and preprocessed.\n"
     ]
    }
   ],
   "source": [
    "# Set plot style\n",
    "sns.set_style(\"whitegrid\")\n",
    "pd.set_option(\"display.max_columns\", 50)\n",
    "\n",
    "# Load the dataset\n",
    "try:\n",
    "    df = pd.read_json(\"/mnt/c/Users/moham/8_churn/data/customer_churn.json\", lines=True)\n",
    "    df_logged_in = df[df[\"auth\"] == \"Logged In\"].copy()\n",
    "    df_logged_in[\"ts\"] = pd.to_datetime(df_logged_in[\"ts\"], unit=\"ms\")\n",
    "    print(\"Dataset loaded and preprocessed.\")\n",
    "except FileNotFoundError:\n",
    "    print(\"Error: Dataset not found.\")"
   ]
  },
  {
   "cell_type": "code",
   "execution_count": 5,
   "id": "03900e9b",
   "metadata": {},
   "outputs": [
    {
     "name": "stdout",
     "output_type": "stream",
     "text": [
      "Data ranges from: 2018-10-01 00:00:11 to 2018-12-01 00:01:06\n",
      "Total duration: 61 days\n"
     ]
    }
   ],
   "source": [
    "# To define inactivity, we must know the timeframe of our data.\n",
    "min_date = df_logged_in[\"ts\"].min()\n",
    "max_date = df_logged_in[\"ts\"].max()\n",
    "\n",
    "print(f\"Data ranges from: {min_date} to {max_date}\")\n",
    "print(f\"Total duration: {(max_date - min_date).days} days\")\n",
    "\n",
    "# We'll define \"recent inactivity\" based on this. Let's assume a user is inactive\n",
    "# if their last action was more than 30 days before the last record in the dataset.\n",
    "INACTIVITY_THRESHOLD = pd.Timedelta(days=30)"
   ]
  },
  {
   "cell_type": "code",
   "execution_count": 6,
   "id": "067926f3",
   "metadata": {},
   "outputs": [
    {
     "name": "stdout",
     "output_type": "stream",
     "text": [
      "Found 390 users who have shown churn-trigger behavior.\n"
     ]
    }
   ],
   "source": [
    "# We'll consider 'Submit Downgrade' and 'Thumbs Down' as triggers.\n",
    "downgrade_users = df_logged_in[df_logged_in[\"page\"] == \"Submit Downgrade\"][\n",
    "    \"userId\"\n",
    "].unique()\n",
    "thumbs_down_users = df_logged_in[df_logged_in[\"page\"] == \"Thumbs Down\"][\n",
    "    \"userId\"\n",
    "].unique()\n",
    "\n",
    "potential_churners = np.union1d(downgrade_users, thumbs_down_users)\n",
    "print(f\"Found {len(potential_churners)} users who have shown churn-trigger behavior.\")"
   ]
  },
  {
   "cell_type": "code",
   "execution_count": 7,
   "id": "a2cfe9f2",
   "metadata": {},
   "outputs": [
    {
     "name": "stdout",
     "output_type": "stream",
     "text": [
      "Identified 46 churned users based on triggers and subsequent inactivity.\n"
     ]
    }
   ],
   "source": [
    "# Get the last interaction timestamp for every user\n",
    "last_interaction = df_logged_in.groupby(\"userId\")[\"ts\"].max()\n",
    "\n",
    "# Filter for users who showed churn-trigger behavior\n",
    "potential_churn_last_interaction = last_interaction[\n",
    "    last_interaction.index.isin(potential_churners)\n",
    "]\n",
    "\n",
    "# A user has churned if their last interaction was before our inactivity cutoff\n",
    "cutoff_date = max_date - INACTIVITY_THRESHOLD\n",
    "churned_user_ids = potential_churn_last_interaction[\n",
    "    potential_churn_last_interaction < cutoff_date\n",
    "].index\n",
    "\n",
    "print(\n",
    "    f\"Identified {len(churned_user_ids)} churned users based on triggers and subsequent inactivity.\"\n",
    ")\n",
    "\n",
    "# Create the final churn label\n",
    "user_level_df = pd.DataFrame(df_logged_in[\"userId\"].unique(), columns=[\"userId\"])\n",
    "user_level_df[\"churn\"] = user_level_df[\"userId\"].isin(churned_user_ids).astype(int)"
   ]
  },
  {
   "cell_type": "code",
   "execution_count": 8,
   "id": "5a6825be",
   "metadata": {},
   "outputs": [
    {
     "name": "stdout",
     "output_type": "stream",
     "text": [
      "New Churn distribution at user level:\n",
      "churn\n",
      "0    402\n",
      "1     46\n",
      "Name: count, dtype: int64\n",
      "\n",
      "New overall churn rate: 10.27%\n"
     ]
    },
    {
     "data": {
      "image/png": "[encoded data removed]",
      "text/plain": [
       "<Figure size 600x400 with 1 Axes>"
      ]
     },
     "metadata": {},
     "output_type": "display_data"
    }
   ],
   "source": [
    "churn_distribution = user_level_df[\"churn\"].value_counts()\n",
    "churn_rate = user_level_df[\"churn\"].value_counts(normalize=True).get(1, 0)\n",
    "\n",
    "print(\"New Churn distribution at user level:\")\n",
    "print(churn_distribution)\n",
    "print(f\"\\nNew overall churn rate: {churn_rate:.2%}\")\n",
    "\n",
    "# Visualize the new distribution\n",
    "plt.figure(figsize=(6, 4))\n",
    "sns.countplot(x=\"churn\", data=user_level_df)\n",
    "plt.title(\"Distribution of Churned vs. Active Users (New Definition)\")\n",
    "plt.show()"
   ]
  },
  {
   "cell_type": "code",
   "execution_count": null,
   "id": "828b6cf7",
   "metadata": {},
   "outputs": [],
   "source": []
  }
 ],
 "metadata": {
  "kernelspec": {
   "display_name": "Python (churn)",
   "language": "python",
   "name": "churn"
  },
  "language_info": {
   "codemirror_mode": {
    "name": "ipython",
    "version": 3
   },
   "file_extension": ".py",
   "mimetype": "text/x-python",
   "name": "python",
   "nbconvert_exporter": "python",
   "pygments_lexer": "ipython3",
   "version": "3.12.3"
  }
 },
 "nbformat": 4,
 "nbformat_minor": 5
}
