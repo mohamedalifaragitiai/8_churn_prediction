{
 "cells": [
  {
   "cell_type": "code",
   "execution_count": null,
   "id": "7dc0f59b",
   "metadata": {},
   "outputs": [],
   "source": [
    "# %pip install pandas"
   ]
  },
  {
   "cell_type": "markdown",
   "id": "669668ba",
   "metadata": {},
   "source": [
    "### Imports and Setup"
   ]
  },
  {
   "cell_type": "code",
   "execution_count": 1,
   "id": "09b5efa2",
   "metadata": {},
   "outputs": [
    {
     "name": "stdout",
     "output_type": "stream",
     "text": [
      "Dataset loaded successfully.\n"
     ]
    }
   ],
   "source": [
    "import pandas as pd\n",
    "import numpy as np\n",
    "import matplotlib.pyplot as plt\n",
    "import seaborn as sns\n",
    "\n",
    "# Set plot style\n",
    "sns.set_style(\"whitegrid\")\n",
    "pd.set_option(\"display.max_columns\", 50)\n",
    "\n",
    "# Load the dataset\n",
    "# Make sure the 'customer_churn_mini.json' file is in the '../data/' directory\n",
    "try:\n",
    "    df = pd.read_json(\"/mnt/c/Users/moham/8_churn/data/customer_churn.json\", lines=True)\n",
    "    print(\"Dataset loaded successfully.\")\n",
    "except FileNotFoundError:\n",
    "    print(\n",
    "        \"Error: Dataset not found. Please place 'customer_churn_mini.json' in the 'Data/' folder.\"\n",
    "    )"
   ]
  },
  {
   "cell_type": "code",
   "execution_count": null,
   "id": "602655b3",
   "metadata": {},
   "outputs": [
    {
     "name": "stdout",
     "output_type": "stream",
     "text": [
      "Dataset loaded and preprocessed.\n"
     ]
    }
   ],
   "source": []
  },
  {
   "cell_type": "markdown",
   "id": "b1e10c77",
   "metadata": {},
   "source": [
    "####  Initial Data Inspection"
   ]
  },
  {
   "cell_type": "code",
   "execution_count": 2,
   "id": "1b99ebaa",
   "metadata": {},
   "outputs": [
    {
     "name": "stdout",
     "output_type": "stream",
     "text": [
      "Shape of the dataset: (543705, 18)\n",
      "\n",
      "First 5 rows:\n"
     ]
    },
    {
     "data": {
      "text/html": [
       "<div>\n",
       "<style scoped>\n",
       "    .dataframe tbody tr th:only-of-type {\n",
       "        vertical-align: middle;\n",
       "    }\n",
       "\n",
       "    .dataframe tbody tr th {\n",
       "        vertical-align: top;\n",
       "    }\n",
       "\n",
       "    .dataframe thead th {\n",
       "        text-align: right;\n",
       "    }\n",
       "</style>\n",
       "<table border=\"1\" class=\"dataframe\">\n",
       "  <thead>\n",
       "    <tr style=\"text-align: right;\">\n",
       "      <th></th>\n",
       "      <th>ts</th>\n",
       "      <th>userId</th>\n",
       "      <th>sessionId</th>\n",
       "      <th>page</th>\n",
       "      <th>auth</th>\n",
       "      <th>method</th>\n",
       "      <th>status</th>\n",
       "      <th>level</th>\n",
       "      <th>itemInSession</th>\n",
       "      <th>location</th>\n",
       "      <th>userAgent</th>\n",
       "      <th>lastName</th>\n",
       "      <th>firstName</th>\n",
       "      <th>registration</th>\n",
       "      <th>gender</th>\n",
       "      <th>artist</th>\n",
       "      <th>song</th>\n",
       "      <th>length</th>\n",
       "    </tr>\n",
       "  </thead>\n",
       "  <tbody>\n",
       "    <tr>\n",
       "      <th>0</th>\n",
       "      <td>1538352011000</td>\n",
       "      <td>293</td>\n",
       "      <td>292</td>\n",
       "      <td>NextSong</td>\n",
       "      <td>Logged In</td>\n",
       "      <td>PUT</td>\n",
       "      <td>200</td>\n",
       "      <td>free</td>\n",
       "      <td>20</td>\n",
       "      <td>Corpus Christi, TX</td>\n",
       "      <td>\"Mozilla/5.0 (Macintosh; Intel Mac OS X 10_9_4...</td>\n",
       "      <td>Morales</td>\n",
       "      <td>Joseph</td>\n",
       "      <td>1.532064e+12</td>\n",
       "      <td>M</td>\n",
       "      <td>Martin Orford</td>\n",
       "      <td>Grand Designs</td>\n",
       "      <td>597.55057</td>\n",
       "    </tr>\n",
       "    <tr>\n",
       "      <th>1</th>\n",
       "      <td>1538352025000</td>\n",
       "      <td>98</td>\n",
       "      <td>97</td>\n",
       "      <td>NextSong</td>\n",
       "      <td>Logged In</td>\n",
       "      <td>PUT</td>\n",
       "      <td>200</td>\n",
       "      <td>free</td>\n",
       "      <td>74</td>\n",
       "      <td>Houston-The Woodlands-Sugar Land, TX</td>\n",
       "      <td>\"Mozilla/5.0 (Macintosh; Intel Mac OS X 10_9_4...</td>\n",
       "      <td>Larson</td>\n",
       "      <td>Sawyer</td>\n",
       "      <td>1.538070e+12</td>\n",
       "      <td>M</td>\n",
       "      <td>John Brown's Body</td>\n",
       "      <td>Bulls</td>\n",
       "      <td>380.21179</td>\n",
       "    </tr>\n",
       "    <tr>\n",
       "      <th>2</th>\n",
       "      <td>1538352118000</td>\n",
       "      <td>179</td>\n",
       "      <td>178</td>\n",
       "      <td>NextSong</td>\n",
       "      <td>Logged In</td>\n",
       "      <td>PUT</td>\n",
       "      <td>200</td>\n",
       "      <td>paid</td>\n",
       "      <td>184</td>\n",
       "      <td>Orlando-Kissimmee-Sanford, FL</td>\n",
       "      <td>\"Mozilla/5.0 (Macintosh; Intel Mac OS X 10_9_4...</td>\n",
       "      <td>Santiago</td>\n",
       "      <td>Maverick</td>\n",
       "      <td>1.535953e+12</td>\n",
       "      <td>M</td>\n",
       "      <td>Afroman</td>\n",
       "      <td>Because I Got High</td>\n",
       "      <td>202.37016</td>\n",
       "    </tr>\n",
       "    <tr>\n",
       "      <th>3</th>\n",
       "      <td>1538352119000</td>\n",
       "      <td>179</td>\n",
       "      <td>178</td>\n",
       "      <td>Logout</td>\n",
       "      <td>Logged In</td>\n",
       "      <td>PUT</td>\n",
       "      <td>307</td>\n",
       "      <td>paid</td>\n",
       "      <td>185</td>\n",
       "      <td>Orlando-Kissimmee-Sanford, FL</td>\n",
       "      <td>\"Mozilla/5.0 (Macintosh; Intel Mac OS X 10_9_4...</td>\n",
       "      <td>Santiago</td>\n",
       "      <td>Maverick</td>\n",
       "      <td>1.535953e+12</td>\n",
       "      <td>M</td>\n",
       "      <td>NaN</td>\n",
       "      <td>NaN</td>\n",
       "      <td>NaN</td>\n",
       "    </tr>\n",
       "    <tr>\n",
       "      <th>4</th>\n",
       "      <td>1538352124000</td>\n",
       "      <td>246</td>\n",
       "      <td>245</td>\n",
       "      <td>NextSong</td>\n",
       "      <td>Logged In</td>\n",
       "      <td>PUT</td>\n",
       "      <td>200</td>\n",
       "      <td>paid</td>\n",
       "      <td>22</td>\n",
       "      <td>Mobile, AL</td>\n",
       "      <td>Mozilla/5.0 (Windows NT 6.1; WOW64; rv:31.0) G...</td>\n",
       "      <td>Campos</td>\n",
       "      <td>Gianna</td>\n",
       "      <td>1.535931e+12</td>\n",
       "      <td>F</td>\n",
       "      <td>Lily Allen</td>\n",
       "      <td>Smile (Radio Edit)</td>\n",
       "      <td>194.53342</td>\n",
       "    </tr>\n",
       "  </tbody>\n",
       "</table>\n",
       "</div>"
      ],
      "text/plain": [
       "              ts userId  sessionId      page       auth method  status level  \\\n",
       "0  1538352011000    293        292  NextSong  Logged In    PUT     200  free   \n",
       "1  1538352025000     98         97  NextSong  Logged In    PUT     200  free   \n",
       "2  1538352118000    179        178  NextSong  Logged In    PUT     200  paid   \n",
       "3  1538352119000    179        178    Logout  Logged In    PUT     307  paid   \n",
       "4  1538352124000    246        245  NextSong  Logged In    PUT     200  paid   \n",
       "\n",
       "   itemInSession                              location  \\\n",
       "0             20                    Corpus Christi, TX   \n",
       "1             74  Houston-The Woodlands-Sugar Land, TX   \n",
       "2            184         Orlando-Kissimmee-Sanford, FL   \n",
       "3            185         Orlando-Kissimmee-Sanford, FL   \n",
       "4             22                            Mobile, AL   \n",
       "\n",
       "                                           userAgent  lastName firstName  \\\n",
       "0  \"Mozilla/5.0 (Macintosh; Intel Mac OS X 10_9_4...   Morales    Joseph   \n",
       "1  \"Mozilla/5.0 (Macintosh; Intel Mac OS X 10_9_4...    Larson    Sawyer   \n",
       "2  \"Mozilla/5.0 (Macintosh; Intel Mac OS X 10_9_4...  Santiago  Maverick   \n",
       "3  \"Mozilla/5.0 (Macintosh; Intel Mac OS X 10_9_4...  Santiago  Maverick   \n",
       "4  Mozilla/5.0 (Windows NT 6.1; WOW64; rv:31.0) G...    Campos    Gianna   \n",
       "\n",
       "   registration gender             artist                song     length  \n",
       "0  1.532064e+12      M      Martin Orford       Grand Designs  597.55057  \n",
       "1  1.538070e+12      M  John Brown's Body               Bulls  380.21179  \n",
       "2  1.535953e+12      M            Afroman  Because I Got High  202.37016  \n",
       "3  1.535953e+12      M                NaN                 NaN        NaN  \n",
       "4  1.535931e+12      F         Lily Allen  Smile (Radio Edit)  194.53342  "
      ]
     },
     "metadata": {},
     "output_type": "display_data"
    },
    {
     "name": "stdout",
     "output_type": "stream",
     "text": [
      "\n",
      "Data types and non-null counts:\n",
      "<class 'pandas.core.frame.DataFrame'>\n",
      "RangeIndex: 543705 entries, 0 to 543704\n",
      "Data columns (total 18 columns):\n",
      " #   Column         Non-Null Count   Dtype  \n",
      "---  ------         --------------   -----  \n",
      " 0   ts             543705 non-null  int64  \n",
      " 1   userId         543705 non-null  object \n",
      " 2   sessionId      543705 non-null  int64  \n",
      " 3   page           543705 non-null  object \n",
      " 4   auth           543705 non-null  object \n",
      " 5   method         543705 non-null  object \n",
      " 6   status         543705 non-null  int64  \n",
      " 7   level          543705 non-null  object \n",
      " 8   itemInSession  543705 non-null  int64  \n",
      " 9   location       528005 non-null  object \n",
      " 10  userAgent      528005 non-null  object \n",
      " 11  lastName       528005 non-null  object \n",
      " 12  firstName      528005 non-null  object \n",
      " 13  registration   528005 non-null  float64\n",
      " 14  gender         528005 non-null  object \n",
      " 15  artist         432877 non-null  object \n",
      " 16  song           432877 non-null  object \n",
      " 17  length         432877 non-null  float64\n",
      "dtypes: float64(2), int64(4), object(12)\n",
      "memory usage: 74.7+ MB\n"
     ]
    }
   ],
   "source": [
    "print(\"Shape of the dataset:\", df.shape)\n",
    "print(\"\\nFirst 5 rows:\")\n",
    "display(df.head())\n",
    "print(\"\\nData types and non-null counts:\")\n",
    "df.info()"
   ]
  },
  {
   "cell_type": "code",
   "execution_count": 4,
   "id": "30506054",
   "metadata": {},
   "outputs": [
    {
     "name": "stdout",
     "output_type": "stream",
     "text": [
      "Data ranges from: 2018-10-01 00:00:11 to 2018-12-01 00:01:06\n",
      "Total duration: 61 days\n"
     ]
    }
   ],
   "source": [
    "# To define inactivity, we must know the timeframe of our data.\n",
    "min_date = df_logged_in[\"ts\"].min()\n",
    "max_date = df_logged_in[\"ts\"].max()\n",
    "\n",
    "print(f\"Data ranges from: {min_date} to {max_date}\")\n",
    "print(f\"Total duration: {(max_date - min_date).days} days\")\n",
    "\n",
    "# We'll define \"recent inactivity\" based on this. Let's assume a user is inactive\n",
    "# if their last action was more than 30 days before the last record in the dataset.\n",
    "INACTIVITY_THRESHOLD = pd.Timedelta(days=30)"
   ]
  },
  {
   "cell_type": "markdown",
   "id": "1b9822e3",
   "metadata": {},
   "source": [
    "### Identify Logged-Out Users"
   ]
  },
  {
   "cell_type": "code",
   "execution_count": 3,
   "id": "7488c017",
   "metadata": {},
   "outputs": [
    {
     "name": "stdout",
     "output_type": "stream",
     "text": [
      "auth\n",
      "Logged In     527906\n",
      "Logged Out     15606\n",
      "Cancelled         99\n",
      "Guest             94\n",
      "Name: count, dtype: int64\n",
      "\n",
      "Filtered dataset to 527906 events from logged-in users.\n"
     ]
    }
   ],
   "source": [
    "# Check the 'auth' column to see user status\n",
    "auth_counts = df[\"auth\"].value_counts()\n",
    "print(auth_counts)\n",
    "\n",
    "# We are only interested in logged-in users for churn prediction.\n",
    "# Filter out events from guests or logged-out sessions.\n",
    "df_logged_in = df[df[\"auth\"] == \"Logged In\"].copy()\n",
    "print(f\"\\nFiltered dataset to {df_logged_in.shape[0]} events from logged-in users.\")"
   ]
  },
  {
   "cell_type": "markdown",
   "id": "9914a16e",
   "metadata": {},
   "source": [
    "### Define the Churn Label"
   ]
  },
  {
   "cell_type": "code",
   "execution_count": 4,
   "id": "31dc2a18",
   "metadata": {},
   "outputs": [
    {
     "name": "stdout",
     "output_type": "stream",
     "text": [
      "Exploring the 'page' column to define churn:\n",
      "page\n",
      "NextSong            432877\n",
      "Thumbs Up            23826\n",
      "Home                 19089\n",
      "Add to Playlist      12349\n",
      "Add Friend            8087\n",
      "Roll Advert           7773\n",
      "Logout                5990\n",
      "Thumbs Down           4911\n",
      "Downgrade             3811\n",
      "Settings              2964\n",
      "Help                  2644\n",
      "About                 1026\n",
      "Upgrade                968\n",
      "Save Settings          585\n",
      "Error                  503\n",
      "Submit Upgrade         287\n",
      "Submit Downgrade       117\n",
      "Cancel                  99\n",
      "Name: count, dtype: int64\n",
      "\n",
      "Identified 0 unique users who have churned.\n"
     ]
    }
   ],
   "source": [
    "# The 'page' column contains the actions users take.\n",
    "print(\"Exploring the 'page' column to define churn:\")\n",
    "print(df_logged_in[\"page\"].value_counts())\n",
    "\n",
    "# A user is defined as \"churned\" if they have visited the 'Cancellation Confirmation' page.\n",
    "churn_users = df_logged_in[df_logged_in[\"page\"] == \"Cancellation Confirmation\"][\n",
    "    \"userId\"\n",
    "].unique()\n",
    "print(f\"\\nIdentified {len(churn_users)} unique users who have churned.\")\n",
    "\n",
    "# Create a churn label column\n",
    "df_logged_in[\"churn\"] = df_logged_in[\"userId\"].isin(churn_users).astype(int)"
   ]
  },
  {
   "cell_type": "markdown",
   "id": "14399a6d",
   "metadata": {},
   "source": [
    "###  Analyze Churn Distribution"
   ]
  },
  {
   "cell_type": "code",
   "execution_count": 6,
   "id": "a321e2f9",
   "metadata": {},
   "outputs": [
    {
     "name": "stdout",
     "output_type": "stream",
     "text": [
      "Churn distribution at user level:\n",
      "churn\n",
      "0    448\n",
      "Name: count, dtype: int64\n",
      "\n",
      "Overall churn rate: 0.00%\n"
     ]
    },
    {
     "data": {
      "image/png": "[encoded data removed]",
      "text/plain": [
       "<Figure size 600x400 with 1 Axes>"
      ]
     },
     "metadata": {},
     "output_type": "display_data"
    }
   ],
   "source": [
    "# Analyze churn at the user level\n",
    "user_level_churn = df_logged_in[[\"userId\", \"churn\"]].drop_duplicates()\n",
    "churn_distribution = user_level_churn[\"churn\"].value_counts()\n",
    "\n",
    "# Safely get the churn rate. Use .get(1, 0.0), which returns 0.0 if key '1' is not found.\n",
    "churn_rate = user_level_churn[\"churn\"].value_counts(normalize=True).get(1, 0.0)\n",
    "\n",
    "print(\"Churn distribution at user level:\")\n",
    "print(churn_distribution)\n",
    "print(f\"\\nOverall churn rate: {churn_rate:.2%}\")\n",
    "\n",
    "# Visualize the imbalance\n",
    "plt.figure(figsize=(6, 4))\n",
    "sns.countplot(x=\"churn\", data=user_level_churn)\n",
    "plt.title(\"Distribution of Churned vs. Active Users\")\n",
    "plt.xlabel(\"Churn (1 = Churned, 0 = Active)\")\n",
    "plt.ylabel(\"Number of Users\")\n",
    "# Ensure the x-axis always shows labels for both potential outcomes\n",
    "plt.xticks(ticks=[0, 1], labels=[\"Active (0)\", \"Churned (1)\"])\n",
    "plt.show()"
   ]
  },
  {
   "cell_type": "markdown",
   "id": "f11498aa",
   "metadata": {},
   "source": [
    "### Explore User Demographics"
   ]
  },
  {
   "cell_type": "code",
   "execution_count": 7,
   "id": "1807c065",
   "metadata": {},
   "outputs": [
    {
     "data": {
      "image/png": "[encoded data removed]",
      "text/plain": [
       "<Figure size 800x600 with 1 Axes>"
      ]
     },
     "metadata": {},
     "output_type": "display_data"
    },
    {
     "data": {
      "image/png": "[encoded data removed]",
      "text/plain": [
       "<Figure size 800x600 with 1 Axes>"
      ]
     },
     "metadata": {},
     "output_type": "display_data"
    }
   ],
   "source": [
    "# Look at gender distribution between churned and active users\n",
    "user_demographics = df_logged_in[[\"userId\", \"gender\", \"churn\"]].drop_duplicates()\n",
    "\n",
    "plt.figure(figsize=(8, 6))\n",
    "sns.countplot(x=\"gender\", hue=\"churn\", data=user_demographics)\n",
    "plt.title(\"Churn by Gender\")\n",
    "plt.show()\n",
    "\n",
    "# Look at subscription level (paid vs. free)\n",
    "user_level_status = df_logged_in.groupby(\"userId\")[\"level\"].last().reset_index()\n",
    "user_level_status = pd.merge(user_level_status, user_level_churn, on=\"userId\")\n",
    "\n",
    "plt.figure(figsize=(8, 6))\n",
    "sns.countplot(x=\"level\", hue=\"churn\", data=user_level_status)\n",
    "plt.title(\"Churn by Last Known Subscription Level\")\n",
    "plt.show()"
   ]
  },
  {
   "cell_type": "markdown",
   "id": "9c8abead",
   "metadata": {},
   "source": [
    "### Explore User Engagement (Song Plays)"
   ]
  },
  {
   "cell_type": "code",
   "execution_count": 8,
   "id": "f7fe6d11",
   "metadata": {},
   "outputs": [
    {
     "data": {
      "image/png": "[encoded data removed]",
      "text/plain": [
       "<Figure size 1000x600 with 1 Axes>"
      ]
     },
     "metadata": {},
     "output_type": "display_data"
    },
    {
     "name": "stdout",
     "output_type": "stream",
     "text": [
      "Median songs played by active users: 550.0\n",
      "Median songs played by churned users: nan\n"
     ]
    }
   ],
   "source": [
    "# Compare total songs played for churned vs. active users\n",
    "user_song_counts = (\n",
    "    df_logged_in[df_logged_in[\"page\"] == \"NextSong\"]\n",
    "    .groupby(\"userId\")\n",
    "    .size()\n",
    "    .reset_index(name=\"song_count\")\n",
    ")\n",
    "user_song_counts = pd.merge(user_song_counts, user_level_churn, on=\"userId\")\n",
    "\n",
    "plt.figure(figsize=(10, 6))\n",
    "sns.boxplot(\n",
    "    x=\"churn\", y=\"song_count\", data=user_song_counts, showfliers=False\n",
    ")  # remove outliers for better viz\n",
    "plt.title(\"Total Songs Played: Churned vs. Active Users\")\n",
    "plt.xlabel(\"Churn\")\n",
    "plt.ylabel(\"Number of Songs Played\")\n",
    "plt.show()\n",
    "\n",
    "print(\n",
    "    \"Median songs played by active users:\",\n",
    "    user_song_counts[user_song_counts[\"churn\"] == 0][\"song_count\"].median(),\n",
    ")\n",
    "print(\n",
    "    \"Median songs played by churned users:\",\n",
    "    user_song_counts[user_song_counts[\"churn\"] == 1][\"song_count\"].median(),\n",
    ")"
   ]
  },
  {
   "cell_type": "markdown",
   "id": "05d35633",
   "metadata": {},
   "source": [
    "### Explore User Tenure"
   ]
  },
  {
   "cell_type": "code",
   "execution_count": 9,
   "id": "e45c1085",
   "metadata": {},
   "outputs": [
    {
     "data": {
      "image/png": "[encoded data removed]",
      "text/plain": [
       "<Figure size 1000x600 with 1 Axes>"
      ]
     },
     "metadata": {},
     "output_type": "display_data"
    },
    {
     "name": "stdout",
     "output_type": "stream",
     "text": [
      "Median tenure for active users: 76.0\n",
      "Median tenure for churned users: nan\n"
     ]
    }
   ],
   "source": [
    "# Convert timestamp columns to datetime\n",
    "df_logged_in[\"ts\"] = pd.to_datetime(df_logged_in[\"ts\"], unit=\"ms\")\n",
    "df_logged_in[\"registration\"] = pd.to_datetime(df_logged_in[\"registration\"], unit=\"ms\")\n",
    "\n",
    "# Calculate tenure for each user\n",
    "user_tenure = (\n",
    "    df_logged_in.groupby(\"userId\")\n",
    "    .agg(registration_date=(\"registration\", \"first\"), last_seen_date=(\"ts\", \"max\"))\n",
    "    .reset_index()\n",
    ")\n",
    "user_tenure[\"tenure_days\"] = (\n",
    "    user_tenure[\"last_seen_date\"] - user_tenure[\"registration_date\"]\n",
    ").dt.days\n",
    "\n",
    "user_tenure = pd.merge(user_tenure, user_level_churn, on=\"userId\")\n",
    "\n",
    "# Visualize tenure distribution\n",
    "plt.figure(figsize=(10, 6))\n",
    "sns.boxplot(x=\"churn\", y=\"tenure_days\", data=user_tenure)\n",
    "plt.title(\"User Tenure: Churned vs. Active Users\")\n",
    "plt.xlabel(\"Churn\")\n",
    "plt.ylabel(\"Tenure (days)\")\n",
    "plt.show()\n",
    "\n",
    "print(\n",
    "    \"Median tenure for active users:\",\n",
    "    user_tenure[user_tenure[\"churn\"] == 0][\"tenure_days\"].median(),\n",
    ")\n",
    "print(\n",
    "    \"Median tenure for churned users:\",\n",
    "    user_tenure[user_tenure[\"churn\"] == 1][\"tenure_days\"].median(),\n",
    ")"
   ]
  },
  {
   "cell_type": "code",
   "execution_count": null,
   "id": "e2093ca6",
   "metadata": {},
   "outputs": [],
   "source": [
    "# # File paths\n",
    "# file1 = \"/mnt/c/Users/moham/8_churn/Data/customer_churn.json\"\n",
    "# file2 = \"/mnt/c/Users/moham/8_churn/Data/customer_churn_mini.json\""
   ]
  },
  {
   "cell_type": "code",
   "execution_count": null,
   "id": "4b53813e",
   "metadata": {},
   "outputs": [],
   "source": []
  },
  {
   "cell_type": "code",
   "execution_count": null,
   "id": "67c1d65e",
   "metadata": {},
   "outputs": [],
   "source": [
    "# # Read JSON files into DataFrames\n",
    "# df_full = pd.read_json(file1, lines=True)   # Use lines=True if it's JSONL format (one JSON per line)\n",
    "# df_mini = pd.read_json(file2, lines=True)"
   ]
  },
  {
   "cell_type": "code",
   "execution_count": null,
   "id": "160a93f2",
   "metadata": {},
   "outputs": [
    {
     "name": "stdout",
     "output_type": "stream",
     "text": [
      "Full Dataset Shape: (543705, 18)\n",
      "Mini Dataset Shape: (286500, 18)\n"
     ]
    }
   ],
   "source": [
    "# # Show basic info\n",
    "# print(\"Full Dataset Shape:\", df_full.shape)\n",
    "# print(\"Mini Dataset Shape:\", df_mini.shape)"
   ]
  },
  {
   "cell_type": "code",
   "execution_count": null,
   "id": "b7ff9b92",
   "metadata": {},
   "outputs": [],
   "source": []
  }
 ],
 "metadata": {
  "kernelspec": {
   "display_name": "Python (churn)",
   "language": "python",
   "name": "churn"
  },
  "language_info": {
   "codemirror_mode": {
    "name": "ipython",
    "version": 3
   },
   "file_extension": ".py",
   "mimetype": "text/x-python",
   "name": "python",
   "nbconvert_exporter": "python",
   "pygments_lexer": "ipython3",
   "version": "3.12.3"
  }
 },
 "nbformat": 4,
 "nbformat_minor": 5
}
